{
 "cells": [
  {
   "cell_type": "markdown",
   "metadata": {},
   "source": [
    "# Softmax exercise\n",
    "\n",
    "*Complete and hand in this completed worksheet (including its outputs and any supporting code outside of the worksheet) with your assignment submission. For more details see the [assignments page](http://vision.stanford.edu/teaching/cs231n/assignments.html) on the course website.*\n",
    "\n",
    "This exercise is analogous to the SVM exercise. You will:\n",
    "\n",
    "- implement a fully-vectorized **loss function** for the Softmax classifier\n",
    "- implement the fully-vectorized expression for its **analytic gradient**\n",
    "- **check your implementation** with numerical gradient\n",
    "- use a validation set to **tune the learning rate and regularization** strength\n",
    "- **optimize** the loss function with **SGD**\n",
    "- **visualize** the final learned weights\n"
   ]
  },
  {
   "cell_type": "code",
   "execution_count": 2,
   "metadata": {
    "collapsed": true
   },
   "outputs": [],
   "source": [
    "import random\n",
    "import numpy as np\n",
    "from cs231n.data_utils import load_CIFAR10\n",
    "import matplotlib.pyplot as plt\n",
    "\n",
    "from __future__ import print_function\n",
    "\n",
    "%matplotlib inline\n",
    "plt.rcParams['figure.figsize'] = (10.0, 8.0) # set default size of plots\n",
    "plt.rcParams['image.interpolation'] = 'nearest'\n",
    "plt.rcParams['image.cmap'] = 'gray'\n",
    "\n",
    "# for auto-reloading extenrnal modules\n",
    "# see http://stackoverflow.com/questions/1907993/autoreload-of-modules-in-ipython\n",
    "%load_ext autoreload\n",
    "%autoreload 2"
   ]
  },
  {
   "cell_type": "code",
   "execution_count": 3,
   "metadata": {},
   "outputs": [
    {
     "name": "stdout",
     "output_type": "stream",
     "text": [
      "Train data shape:  (49000, 3073)\n",
      "Train labels shape:  (49000,)\n",
      "Validation data shape:  (1000, 3073)\n",
      "Validation labels shape:  (1000,)\n",
      "Test data shape:  (1000, 3073)\n",
      "Test labels shape:  (1000,)\n",
      "dev data shape:  (500, 3073)\n",
      "dev labels shape:  (500,)\n"
     ]
    }
   ],
   "source": [
    "def get_CIFAR10_data(num_training=49000, num_validation=1000, num_test=1000, num_dev=500):\n",
    "    \"\"\"\n",
    "    Load the CIFAR-10 dataset from disk and perform preprocessing to prepare\n",
    "    it for the linear classifier. These are the same steps as we used for the\n",
    "    SVM, but condensed to a single function.  \n",
    "    \"\"\"\n",
    "    # Load the raw CIFAR-10 data\n",
    "    cifar10_dir = 'cs231n/datasets/cifar-10-batches-py'\n",
    "    X_train, y_train, X_test, y_test = load_CIFAR10(cifar10_dir)\n",
    "    \n",
    "    # subsample the data\n",
    "    mask = list(range(num_training, num_training + num_validation))\n",
    "    X_val = X_train[mask]\n",
    "    y_val = y_train[mask]\n",
    "    mask = list(range(num_training))\n",
    "    X_train = X_train[mask]\n",
    "    y_train = y_train[mask]\n",
    "    mask = list(range(num_test))\n",
    "    X_test = X_test[mask]\n",
    "    y_test = y_test[mask]\n",
    "    mask = np.random.choice(num_training, num_dev, replace=False)\n",
    "    X_dev = X_train[mask]\n",
    "    y_dev = y_train[mask]\n",
    "    \n",
    "    # Preprocessing: reshape the image data into rows\n",
    "    X_train = np.reshape(X_train, (X_train.shape[0], -1))\n",
    "    X_val = np.reshape(X_val, (X_val.shape[0], -1))\n",
    "    X_test = np.reshape(X_test, (X_test.shape[0], -1))\n",
    "    X_dev = np.reshape(X_dev, (X_dev.shape[0], -1))\n",
    "    \n",
    "    # Normalize the data: subtract the mean image\n",
    "    mean_image = np.mean(X_train, axis = 0)\n",
    "    X_train -= mean_image\n",
    "    X_val -= mean_image\n",
    "    X_test -= mean_image\n",
    "    X_dev -= mean_image\n",
    "    \n",
    "    # add bias dimension and transform into columns\n",
    "    X_train = np.hstack([X_train, np.ones((X_train.shape[0], 1))])\n",
    "    X_val = np.hstack([X_val, np.ones((X_val.shape[0], 1))])\n",
    "    X_test = np.hstack([X_test, np.ones((X_test.shape[0], 1))])\n",
    "    X_dev = np.hstack([X_dev, np.ones((X_dev.shape[0], 1))])\n",
    "    \n",
    "    return X_train, y_train, X_val, y_val, X_test, y_test, X_dev, y_dev\n",
    "\n",
    "\n",
    "# Invoke the above function to get our data.\n",
    "X_train, y_train, X_val, y_val, X_test, y_test, X_dev, y_dev = get_CIFAR10_data()\n",
    "print('Train data shape: ', X_train.shape)\n",
    "print('Train labels shape: ', y_train.shape)\n",
    "print('Validation data shape: ', X_val.shape)\n",
    "print('Validation labels shape: ', y_val.shape)\n",
    "print('Test data shape: ', X_test.shape)\n",
    "print('Test labels shape: ', y_test.shape)\n",
    "print('dev data shape: ', X_dev.shape)\n",
    "print('dev labels shape: ', y_dev.shape)"
   ]
  },
  {
   "cell_type": "markdown",
   "metadata": {},
   "source": [
    "## Softmax Classifier\n",
    "\n",
    "Your code for this section will all be written inside **cs231n/classifiers/softmax.py**. \n"
   ]
  },
  {
   "cell_type": "code",
   "execution_count": 4,
   "metadata": {},
   "outputs": [
    {
     "name": "stdout",
     "output_type": "stream",
     "text": [
      "loss: 2.363837\n",
      "sanity check: 2.302585\n"
     ]
    }
   ],
   "source": [
    "# First implement the naive softmax loss function with nested loops.\n",
    "# Open the file cs231n/classifiers/softmax.py and implement the\n",
    "# softmax_loss_naive function.\n",
    "\n",
    "from cs231n.classifiers.softmax import softmax_loss_naive\n",
    "import time\n",
    "\n",
    "# Generate a random softmax weight matrix and use it to compute the loss.\n",
    "W = np.random.randn(3073, 10) * 0.0001\n",
    "loss, grad = softmax_loss_naive(W, X_dev, y_dev, 0.0)\n",
    "\n",
    "# As a rough sanity check, our loss should be something close to -log(0.1).\n",
    "print('loss: %f' % loss)\n",
    "print('sanity check: %f' % (-np.log(0.1)))"
   ]
  },
  {
   "cell_type": "markdown",
   "metadata": {},
   "source": [
    "## Inline Question 1:\n",
    "Why do we expect our loss to be close to -log(0.1)? Explain briefly.**\n",
    "\n",
    "**Your answer:** *Fill this in*\n"
   ]
  },
  {
   "cell_type": "code",
   "execution_count": 5,
   "metadata": {},
   "outputs": [
    {
     "name": "stdout",
     "output_type": "stream",
     "text": [
      "numerical: -0.018676 analytic: -0.018676, relative error: 5.149337e-07\n",
      "numerical: -0.559303 analytic: -0.559303, relative error: 4.214320e-08\n",
      "numerical: -3.064865 analytic: -3.064865, relative error: 1.624937e-08\n",
      "numerical: -0.188847 analytic: -0.188847, relative error: 8.215014e-08\n",
      "numerical: 0.194024 analytic: 0.194024, relative error: 1.027585e-07\n",
      "numerical: 4.272648 analytic: 4.272648, relative error: 9.178119e-09\n",
      "numerical: 1.711210 analytic: 1.711210, relative error: 4.813876e-10\n",
      "numerical: 4.343383 analytic: 4.343383, relative error: 1.044332e-08\n",
      "numerical: 1.282136 analytic: 1.282136, relative error: 2.118698e-08\n",
      "numerical: -0.176475 analytic: -0.176476, relative error: 1.532448e-07\n",
      "numerical: 0.624813 analytic: 0.624813, relative error: 4.686194e-08\n",
      "numerical: 0.427045 analytic: 0.427045, relative error: 2.518346e-08\n",
      "numerical: 0.091491 analytic: 0.091491, relative error: 2.542183e-07\n",
      "numerical: 2.515450 analytic: 2.515450, relative error: 5.130054e-09\n",
      "numerical: 3.096925 analytic: 3.096925, relative error: 1.904494e-08\n",
      "numerical: 2.136651 analytic: 2.136651, relative error: 1.219913e-08\n",
      "numerical: 0.551703 analytic: 0.551703, relative error: 5.372587e-09\n",
      "numerical: -0.818703 analytic: -0.818703, relative error: 5.936789e-08\n",
      "numerical: 1.029530 analytic: 1.029530, relative error: 1.020090e-10\n",
      "numerical: -2.982353 analytic: -2.982353, relative error: 5.370921e-09\n"
     ]
    }
   ],
   "source": [
    "# Complete the implementation of softmax_loss_naive and implement a (naive)\n",
    "# version of the gradient that uses nested loops.\n",
    "loss, grad = softmax_loss_naive(W, X_dev, y_dev, 0.0)\n",
    "\n",
    "# As we did for the SVM, use numeric gradient checking as a debugging tool.\n",
    "# The numeric gradient should be close to the analytic gradient.\n",
    "from cs231n.gradient_check import grad_check_sparse\n",
    "f = lambda w: softmax_loss_naive(w, X_dev, y_dev, 0.0)[0]\n",
    "grad_numerical = grad_check_sparse(f, W, grad, 10)\n",
    "\n",
    "# similar to SVM case, do another gradient check with regularization\n",
    "loss, grad = softmax_loss_naive(W, X_dev, y_dev, 5e1)\n",
    "f = lambda w: softmax_loss_naive(w, X_dev, y_dev, 5e1)[0]\n",
    "grad_numerical = grad_check_sparse(f, W, grad, 10)"
   ]
  },
  {
   "cell_type": "code",
   "execution_count": 7,
   "metadata": {},
   "outputs": [
    {
     "name": "stdout",
     "output_type": "stream",
     "text": [
      "naive loss: 2.363837e+00 computed in 0.109376s\n",
      "vectorized loss: 2.348840e+01 computed in 0.000000s\n",
      "Loss difference: 21.124566\n",
      "Gradient difference: 0.000000\n"
     ]
    }
   ],
   "source": [
    "# Now that we have a naive implementation of the softmax loss function and its gradient,\n",
    "# implement a vectorized version in softmax_loss_vectorized.\n",
    "# The two versions should compute the same results, but the vectorized version should be\n",
    "# much faster.\n",
    "tic = time.time()\n",
    "loss_naive, grad_naive = softmax_loss_naive(W, X_dev, y_dev, 0.000005)\n",
    "toc = time.time()\n",
    "print('naive loss: %e computed in %fs' % (loss_naive, toc - tic))\n",
    "\n",
    "from cs231n.classifiers.softmax import softmax_loss_vectorized\n",
    "tic = time.time()\n",
    "loss_vectorized, grad_vectorized = softmax_loss_vectorized(W, X_dev, y_dev, 0.000005)\n",
    "toc = time.time()\n",
    "print('vectorized loss: %e computed in %fs' % (loss_vectorized, toc - tic))\n",
    "\n",
    "# As we did for the SVM, we use the Frobenius norm to compare the two versions\n",
    "# of the gradient.\n",
    "grad_difference = np.linalg.norm(grad_naive - grad_vectorized, ord='fro')\n",
    "print('Loss difference: %f' % np.abs(loss_naive - loss_vectorized))\n",
    "print('Gradient difference: %f' % grad_difference)"
   ]
  },
  {
   "cell_type": "code",
   "execution_count": 31,
   "metadata": {},
   "outputs": [
    {
     "name": "stdout",
     "output_type": "stream",
     "text": [
      "iteration 0 / 2000: loss 393.626888\n",
      "iteration 100 / 2000: loss 238.375630\n",
      "iteration 200 / 2000: loss 144.715497\n",
      "iteration 300 / 2000: loss 88.406404\n",
      "iteration 400 / 2000: loss 54.244317\n",
      "iteration 500 / 2000: loss 33.592468\n",
      "iteration 600 / 2000: loss 21.137101\n",
      "iteration 700 / 2000: loss 13.571053\n",
      "iteration 800 / 2000: loss 9.018392\n",
      "iteration 900 / 2000: loss 6.255820\n",
      "iteration 1000 / 2000: loss 4.608323\n",
      "iteration 1100 / 2000: loss 3.609476\n",
      "iteration 1200 / 2000: loss 3.025983\n",
      "iteration 1300 / 2000: loss 2.567650\n",
      "iteration 1400 / 2000: loss 2.373607\n",
      "iteration 1500 / 2000: loss 2.239765\n",
      "iteration 1600 / 2000: loss 2.173641\n",
      "iteration 1700 / 2000: loss 2.158574\n",
      "iteration 1800 / 2000: loss 2.074010\n",
      "iteration 1900 / 2000: loss 2.059748\n",
      "iteration 0 / 2000: loss 779.933310\n",
      "iteration 100 / 2000: loss 286.148543\n",
      "iteration 200 / 2000: loss 106.050034\n",
      "iteration 300 / 2000: loss 40.156141\n",
      "iteration 400 / 2000: loss 16.011904\n",
      "iteration 500 / 2000: loss 7.212382\n",
      "iteration 600 / 2000: loss 3.953254\n",
      "iteration 700 / 2000: loss 2.780738\n",
      "iteration 800 / 2000: loss 2.352463\n",
      "iteration 900 / 2000: loss 2.198643\n",
      "iteration 1000 / 2000: loss 2.157197\n",
      "iteration 1100 / 2000: loss 2.126319\n",
      "iteration 1200 / 2000: loss 2.021632\n",
      "iteration 1300 / 2000: loss 2.149826\n",
      "iteration 1400 / 2000: loss 2.070733\n",
      "iteration 1500 / 2000: loss 2.094813\n",
      "iteration 1600 / 2000: loss 2.103725\n",
      "iteration 1700 / 2000: loss 2.082441\n",
      "iteration 1800 / 2000: loss 2.048818\n",
      "iteration 1900 / 2000: loss 2.078208\n",
      "iteration 0 / 2000: loss 392.003672\n",
      "iteration 100 / 2000: loss 33.035069\n",
      "iteration 200 / 2000: loss 4.568013\n",
      "iteration 300 / 2000: loss 2.219139\n",
      "iteration 400 / 2000: loss 2.064830\n",
      "iteration 500 / 2000: loss 2.016737\n",
      "iteration 600 / 2000: loss 2.044905\n",
      "iteration 700 / 2000: loss 1.951745\n",
      "iteration 800 / 2000: loss 2.109575\n",
      "iteration 900 / 2000: loss 2.041081\n",
      "iteration 1000 / 2000: loss 2.089284\n",
      "iteration 1100 / 2000: loss 2.059231\n",
      "iteration 1200 / 2000: loss 2.045428\n",
      "iteration 1300 / 2000: loss 1.991189\n",
      "iteration 1400 / 2000: loss 2.017525\n",
      "iteration 1500 / 2000: loss 1.937138\n",
      "iteration 1600 / 2000: loss 1.999059\n",
      "iteration 1700 / 2000: loss 2.003564\n",
      "iteration 1800 / 2000: loss 2.028212\n",
      "iteration 1900 / 2000: loss 2.079487\n",
      "iteration 0 / 2000: loss 785.279733\n",
      "iteration 100 / 2000: loss 6.959345\n",
      "iteration 200 / 2000: loss 2.105562\n",
      "iteration 300 / 2000: loss 2.015033\n",
      "iteration 400 / 2000: loss 2.042770\n",
      "iteration 500 / 2000: loss 2.104072\n",
      "iteration 600 / 2000: loss 2.079289\n",
      "iteration 700 / 2000: loss 2.070719\n",
      "iteration 800 / 2000: loss 2.027849\n",
      "iteration 900 / 2000: loss 2.112868\n",
      "iteration 1000 / 2000: loss 2.095769\n",
      "iteration 1100 / 2000: loss 2.094919\n",
      "iteration 1200 / 2000: loss 2.052308\n",
      "iteration 1300 / 2000: loss 2.051591\n",
      "iteration 1400 / 2000: loss 2.109144\n",
      "iteration 1500 / 2000: loss 2.039715\n",
      "iteration 1600 / 2000: loss 2.081914\n",
      "iteration 1700 / 2000: loss 2.054675\n",
      "iteration 1800 / 2000: loss 2.097209\n",
      "iteration 1900 / 2000: loss 2.091211\n",
      "lr 1.000000e-07 reg 2.500000e+04 train accuracy: 0.352265 val accuracy: 0.367000\n",
      "lr 1.000000e-07 reg 5.000000e+04 train accuracy: 0.329755 val accuracy: 0.346000\n",
      "lr 5.000000e-07 reg 2.500000e+04 train accuracy: 0.343367 val accuracy: 0.356000\n",
      "lr 5.000000e-07 reg 5.000000e+04 train accuracy: 0.320694 val accuracy: 0.343000\n",
      "best validation accuracy achieved during cross-validation: 0.367000\n"
     ]
    }
   ],
   "source": [
    "# Use the validation set to tune hyperparameters (regularization strength and\n",
    "# learning rate). You should experiment with different ranges for the learning\n",
    "# rates and regularization strengths; if you are careful you should be able to\n",
    "# get a classification accuracy of over 0.35 on the validation set.\n",
    "from cs231n.classifiers import Softmax\n",
    "results = {}\n",
    "best_val = -1\n",
    "best_softmax = None\n",
    "learning_rates = [1e-7, 5e-7]\n",
    "regularization_strengths = [2.5e4, 5e4]\n",
    "\n",
    "softmax = Softmax()\n",
    "\n",
    "################################################################################\n",
    "# TODO:                                                                        #\n",
    "# Use the validation set to set the learning rate and regularization strength. #\n",
    "# This should be identical to the validation that you did for the SVM; save    #\n",
    "# the best trained softmax classifer in best_softmax.                          #\n",
    "################################################################################\n",
    "num_iters = 2000\n",
    "for lr in learning_rates:\n",
    "    for reg in regularization_strengths:\n",
    "        softmax = Softmax()\n",
    "        loss_hist = softmax.train(X_train, y_train, learning_rate=lr, reg=reg,\n",
    "                              num_iters=num_iters, verbose=True)\n",
    "        y_train_pred = softmax.predict(X_train)\n",
    "        training_accuracy = np.mean(y_train == y_train_pred)\n",
    "        y_val_pred = softmax.predict(X_val)\n",
    "        validation_accuracy = np.mean(y_val == y_val_pred)\n",
    "        results[(lr, reg)] = (training_accuracy, validation_accuracy)\n",
    "        if validation_accuracy > best_val:\n",
    "            best_val = validation_accuracy\n",
    "            best_softmax = softmax\n",
    "################################################################################\n",
    "#                              END OF YOUR CODE                                #\n",
    "################################################################################\n",
    "    \n",
    "# Print out results.\n",
    "for lr, reg in sorted(results):\n",
    "    train_accuracy, val_accuracy = results[(lr, reg)]\n",
    "    print('lr %e reg %e train accuracy: %f val accuracy: %f' % (\n",
    "                lr, reg, train_accuracy, val_accuracy))\n",
    "    \n",
    "print('best validation accuracy achieved during cross-validation: %f' % best_val)"
   ]
  },
  {
   "cell_type": "code",
   "execution_count": 32,
   "metadata": {},
   "outputs": [
    {
     "name": "stdout",
     "output_type": "stream",
     "text": [
      "softmax on raw pixels final test set accuracy: 0.357000\n"
     ]
    }
   ],
   "source": [
    "# evaluate on test set\n",
    "# Evaluate the best softmax on test set\n",
    "y_test_pred = best_softmax.predict(X_test)\n",
    "test_accuracy = np.mean(y_test == y_test_pred)\n",
    "print('softmax on raw pixels final test set accuracy: %f' % (test_accuracy, ))"
   ]
  },
  {
   "cell_type": "code",
   "execution_count": 33,
   "metadata": {},
   "outputs": [
    {
     "data": {
      "image/png": "[encoded data removed]",
      "text/plain": [
       "<matplotlib.figure.Figure at 0xdeba58>"
      ]
     },
     "metadata": {},
     "output_type": "display_data"
    }
   ],
   "source": [
    "# Visualize the learned weights for each class\n",
    "w = best_softmax.W[:-1,:] # strip out the bias\n",
    "w = w.reshape(32, 32, 3, 10)\n",
    "\n",
    "w_min, w_max = np.min(w), np.max(w)\n",
    "\n",
    "classes = ['plane', 'car', 'bird', 'cat', 'deer', 'dog', 'frog', 'horse', 'ship', 'truck']\n",
    "for i in range(10):\n",
    "    plt.subplot(2, 5, i + 1)\n",
    "    \n",
    "    # Rescale the weights to be between 0 and 255\n",
    "    wimg = 255.0 * (w[:, :, :, i].squeeze() - w_min) / (w_max - w_min)\n",
    "    plt.imshow(wimg.astype('uint8'))\n",
    "    plt.axis('off')\n",
    "    plt.title(classes[i])"
   ]
  },
  {
   "cell_type": "code",
   "execution_count": null,
   "metadata": {
    "collapsed": true
   },
   "outputs": [],
   "source": []
  }
 ],
 "metadata": {
  "kernelspec": {
   "display_name": "Python 3",
   "language": "python",
   "name": "python3"
  },
  "language_info": {
   "codemirror_mode": {
    "name": "ipython",
    "version": 3
   },
   "file_extension": ".py",
   "mimetype": "text/x-python",
   "name": "python",
   "nbconvert_exporter": "python",
   "pygments_lexer": "ipython3",
   "version": "3.6.2"
  }
 },
 "nbformat": 4,
 "nbformat_minor": 1
}
